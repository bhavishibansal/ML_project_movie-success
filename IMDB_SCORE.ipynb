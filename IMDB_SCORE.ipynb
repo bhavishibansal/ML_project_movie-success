{
 "cells": [
  {
   "cell_type": "code",
   "execution_count": 69,
   "metadata": {},
   "outputs": [],
   "source": [
    "import matplotlib.pyplot as plt\n",
    "import pandas as pd\n",
    "import numpy as np\n",
    "import seaborn as sns\n",
    "%matplotlib inline\n",
    "df = pd.read_csv('finalout.csv')"
   ]
  },
  {
   "cell_type": "code",
   "execution_count": 70,
   "metadata": {},
   "outputs": [
    {
     "data": {
      "text/plain": [
       "1.6"
      ]
     },
     "execution_count": 70,
     "metadata": {},
     "output_type": "execute_result"
    }
   ],
   "source": [
    "df['imdb_score'].min()"
   ]
  },
  {
   "cell_type": "code",
   "execution_count": 71,
   "metadata": {},
   "outputs": [],
   "source": [
    "#Categorising the target varible \n",
    "bins = [ 1, 4, 7, 10]\n",
    "labels = ['Low', 'Medium', 'High']\n",
    "df['imdb_label'] = pd.cut(df['imdb_score'], bins=bins, labels=labels)"
   ]
  },
  {
   "cell_type": "code",
   "execution_count": 72,
   "metadata": {},
   "outputs": [
    {
     "data": {
      "text/plain": [
       "Text(0.5, 1.0, 'Categorization Imdb Score')"
      ]
     },
     "execution_count": 72,
     "metadata": {},
     "output_type": "execute_result"
    },
    {
     "data": {
      "image/png": "[encoded data removed]",
      "text/plain": [
       "<Figure size 432x288 with 1 Axes>"
      ]
     },
     "metadata": {
      "needs_background": "light"
     },
     "output_type": "display_data"
    }
   ],
   "source": [
    "df.groupby(['imdb_label']).size().plot(kind=\"bar\",fontsize=14)\n",
    "plt.xlabel('Categories')\n",
    "plt.ylabel('Number of Movies')\n",
    "plt.title('Categorization Imdb Score')"
   ]
  },
  {
   "cell_type": "code",
   "execution_count": 73,
   "metadata": {},
   "outputs": [],
   "source": [
    "#Label encoding the categorical columns\n",
    "from sklearn.preprocessing import LabelEncoder\n",
    "le = LabelEncoder()\n",
    "cat_list=['imdb_label']\n",
    "df[cat_list]=df[cat_list].apply(lambda x:le.fit_transform(x.astype('str')))"
   ]
  },
  {
   "cell_type": "code",
   "execution_count": 74,
   "metadata": {},
   "outputs": [
    {
     "data": {
      "text/plain": [
       "0       0\n",
       "1       0\n",
       "2       2\n",
       "3       0\n",
       "4       2\n",
       "       ..\n",
       "4549    2\n",
       "4550    2\n",
       "4551    0\n",
       "4552    2\n",
       "4553    2\n",
       "Name: imdb_label, Length: 4554, dtype: int32"
      ]
     },
     "execution_count": 74,
     "metadata": {},
     "output_type": "execute_result"
    }
   ],
   "source": [
    "df['imdb_label']"
   ]
  },
  {
   "cell_type": "code",
   "execution_count": 75,
   "metadata": {},
   "outputs": [],
   "source": [
    "from sklearn.linear_model import LogisticRegression\n",
    "from sklearn.metrics import accuracy_score, confusion_matrix, classification_report\n",
    "from sklearn.model_selection import train_test_split\n",
    "X = df.drop(['imdb_score','imdb_label'], axis = 1)\n",
    "y = df['imdb_label']\n",
    "\n",
    "X_train, X_test, y_train, y_test = train_test_split(X, y, train_size = 0.8, test_size = 0.2, random_state = 1)"
   ]
  },
  {
   "cell_type": "code",
   "execution_count": 76,
   "metadata": {},
   "outputs": [
    {
     "data": {
      "text/html": [
       "<div>\n",
       "<style scoped>\n",
       "    .dataframe tbody tr th:only-of-type {\n",
       "        vertical-align: middle;\n",
       "    }\n",
       "\n",
       "    .dataframe tbody tr th {\n",
       "        vertical-align: top;\n",
       "    }\n",
       "\n",
       "    .dataframe thead th {\n",
       "        text-align: right;\n",
       "    }\n",
       "</style>\n",
       "<table border=\"1\" class=\"dataframe\">\n",
       "  <thead>\n",
       "    <tr style=\"text-align: right;\">\n",
       "      <th></th>\n",
       "      <th>color</th>\n",
       "      <th>director_name</th>\n",
       "      <th>num_critic_for_reviews</th>\n",
       "      <th>duration</th>\n",
       "      <th>director_facebook_likes</th>\n",
       "      <th>actor_3_facebook_likes</th>\n",
       "      <th>actor_2_name</th>\n",
       "      <th>actor_1_facebook_likes</th>\n",
       "      <th>gross</th>\n",
       "      <th>genres</th>\n",
       "      <th>...</th>\n",
       "      <th>plot_keywords</th>\n",
       "      <th>num_user_for_reviews</th>\n",
       "      <th>language</th>\n",
       "      <th>country</th>\n",
       "      <th>content_rating</th>\n",
       "      <th>budget</th>\n",
       "      <th>title_year</th>\n",
       "      <th>actor_2_facebook_likes</th>\n",
       "      <th>aspect_ratio</th>\n",
       "      <th>movie_facebook_likes</th>\n",
       "    </tr>\n",
       "  </thead>\n",
       "  <tbody>\n",
       "    <tr>\n",
       "      <th>719</th>\n",
       "      <td>1</td>\n",
       "      <td>2025</td>\n",
       "      <td>171.0</td>\n",
       "      <td>146</td>\n",
       "      <td>12000</td>\n",
       "      <td>451</td>\n",
       "      <td>2078</td>\n",
       "      <td>18000</td>\n",
       "      <td>7.786255e+07</td>\n",
       "      <td>191</td>\n",
       "      <td>...</td>\n",
       "      <td>1944</td>\n",
       "      <td>690</td>\n",
       "      <td>9</td>\n",
       "      <td>53</td>\n",
       "      <td>9</td>\n",
       "      <td>70000000.0</td>\n",
       "      <td>77</td>\n",
       "      <td>992</td>\n",
       "      <td>130</td>\n",
       "      <td>14000</td>\n",
       "    </tr>\n",
       "    <tr>\n",
       "      <th>990</th>\n",
       "      <td>1</td>\n",
       "      <td>409</td>\n",
       "      <td>105.0</td>\n",
       "      <td>109</td>\n",
       "      <td>0</td>\n",
       "      <td>809</td>\n",
       "      <td>2611</td>\n",
       "      <td>49000</td>\n",
       "      <td>8.355815e+06</td>\n",
       "      <td>550</td>\n",
       "      <td>...</td>\n",
       "      <td>2641</td>\n",
       "      <td>341</td>\n",
       "      <td>9</td>\n",
       "      <td>52</td>\n",
       "      <td>9</td>\n",
       "      <td>55000000.0</td>\n",
       "      <td>75</td>\n",
       "      <td>811</td>\n",
       "      <td>61</td>\n",
       "      <td>0</td>\n",
       "    </tr>\n",
       "    <tr>\n",
       "      <th>3783</th>\n",
       "      <td>1</td>\n",
       "      <td>124</td>\n",
       "      <td>3.0</td>\n",
       "      <td>90</td>\n",
       "      <td>0</td>\n",
       "      <td>37</td>\n",
       "      <td>1237</td>\n",
       "      <td>1000</td>\n",
       "      <td>9.150073e+07</td>\n",
       "      <td>706</td>\n",
       "      <td>...</td>\n",
       "      <td>3973</td>\n",
       "      <td>18</td>\n",
       "      <td>9</td>\n",
       "      <td>52</td>\n",
       "      <td>9</td>\n",
       "      <td>3440000.0</td>\n",
       "      <td>87</td>\n",
       "      <td>53</td>\n",
       "      <td>130</td>\n",
       "      <td>606</td>\n",
       "    </tr>\n",
       "    <tr>\n",
       "      <th>2142</th>\n",
       "      <td>1</td>\n",
       "      <td>429</td>\n",
       "      <td>190.0</td>\n",
       "      <td>109</td>\n",
       "      <td>453</td>\n",
       "      <td>2000</td>\n",
       "      <td>451</td>\n",
       "      <td>18000</td>\n",
       "      <td>2.641565e+07</td>\n",
       "      <td>191</td>\n",
       "      <td>...</td>\n",
       "      <td>2398</td>\n",
       "      <td>189</td>\n",
       "      <td>9</td>\n",
       "      <td>53</td>\n",
       "      <td>9</td>\n",
       "      <td>20000000.0</td>\n",
       "      <td>81</td>\n",
       "      <td>11000</td>\n",
       "      <td>130</td>\n",
       "      <td>0</td>\n",
       "    </tr>\n",
       "    <tr>\n",
       "      <th>4419</th>\n",
       "      <td>1</td>\n",
       "      <td>1190</td>\n",
       "      <td>26.0</td>\n",
       "      <td>112</td>\n",
       "      <td>2</td>\n",
       "      <td>321</td>\n",
       "      <td>891</td>\n",
       "      <td>786</td>\n",
       "      <td>7.707563e+06</td>\n",
       "      <td>511</td>\n",
       "      <td>...</td>\n",
       "      <td>4128</td>\n",
       "      <td>32</td>\n",
       "      <td>9</td>\n",
       "      <td>53</td>\n",
       "      <td>9</td>\n",
       "      <td>182802463.5</td>\n",
       "      <td>76</td>\n",
       "      <td>633</td>\n",
       "      <td>61</td>\n",
       "      <td>0</td>\n",
       "    </tr>\n",
       "    <tr>\n",
       "      <th>...</th>\n",
       "      <td>...</td>\n",
       "      <td>...</td>\n",
       "      <td>...</td>\n",
       "      <td>...</td>\n",
       "      <td>...</td>\n",
       "      <td>...</td>\n",
       "      <td>...</td>\n",
       "      <td>...</td>\n",
       "      <td>...</td>\n",
       "      <td>...</td>\n",
       "      <td>...</td>\n",
       "      <td>...</td>\n",
       "      <td>...</td>\n",
       "      <td>...</td>\n",
       "      <td>...</td>\n",
       "      <td>...</td>\n",
       "      <td>...</td>\n",
       "      <td>...</td>\n",
       "      <td>...</td>\n",
       "      <td>...</td>\n",
       "      <td>...</td>\n",
       "    </tr>\n",
       "    <tr>\n",
       "      <th>2895</th>\n",
       "      <td>1</td>\n",
       "      <td>452</td>\n",
       "      <td>89.0</td>\n",
       "      <td>200</td>\n",
       "      <td>767</td>\n",
       "      <td>382</td>\n",
       "      <td>1473</td>\n",
       "      <td>597</td>\n",
       "      <td>1.117220e+08</td>\n",
       "      <td>801</td>\n",
       "      <td>...</td>\n",
       "      <td>1951</td>\n",
       "      <td>255</td>\n",
       "      <td>9</td>\n",
       "      <td>53</td>\n",
       "      <td>7</td>\n",
       "      <td>11000000.0</td>\n",
       "      <td>38</td>\n",
       "      <td>396</td>\n",
       "      <td>130</td>\n",
       "      <td>7000</td>\n",
       "    </tr>\n",
       "    <tr>\n",
       "      <th>2763</th>\n",
       "      <td>1</td>\n",
       "      <td>1406</td>\n",
       "      <td>71.0</td>\n",
       "      <td>115</td>\n",
       "      <td>187</td>\n",
       "      <td>887</td>\n",
       "      <td>2276</td>\n",
       "      <td>14000</td>\n",
       "      <td>4.039320e+05</td>\n",
       "      <td>803</td>\n",
       "      <td>...</td>\n",
       "      <td>4035</td>\n",
       "      <td>92</td>\n",
       "      <td>9</td>\n",
       "      <td>52</td>\n",
       "      <td>9</td>\n",
       "      <td>20000000.0</td>\n",
       "      <td>73</td>\n",
       "      <td>900</td>\n",
       "      <td>130</td>\n",
       "      <td>141</td>\n",
       "    </tr>\n",
       "    <tr>\n",
       "      <th>905</th>\n",
       "      <td>1</td>\n",
       "      <td>1606</td>\n",
       "      <td>330.0</td>\n",
       "      <td>112</td>\n",
       "      <td>97</td>\n",
       "      <td>584</td>\n",
       "      <td>531</td>\n",
       "      <td>17000</td>\n",
       "      <td>1.916162e+08</td>\n",
       "      <td>142</td>\n",
       "      <td>...</td>\n",
       "      <td>2880</td>\n",
       "      <td>322</td>\n",
       "      <td>9</td>\n",
       "      <td>53</td>\n",
       "      <td>9</td>\n",
       "      <td>50000000.0</td>\n",
       "      <td>87</td>\n",
       "      <td>920</td>\n",
       "      <td>130</td>\n",
       "      <td>24000</td>\n",
       "    </tr>\n",
       "    <tr>\n",
       "      <th>3980</th>\n",
       "      <td>1</td>\n",
       "      <td>293</td>\n",
       "      <td>77.0</td>\n",
       "      <td>102</td>\n",
       "      <td>32</td>\n",
       "      <td>75</td>\n",
       "      <td>148</td>\n",
       "      <td>483</td>\n",
       "      <td>1.154654e+07</td>\n",
       "      <td>141</td>\n",
       "      <td>...</td>\n",
       "      <td>1609</td>\n",
       "      <td>146</td>\n",
       "      <td>4</td>\n",
       "      <td>19</td>\n",
       "      <td>9</td>\n",
       "      <td>2000000.0</td>\n",
       "      <td>67</td>\n",
       "      <td>147</td>\n",
       "      <td>130</td>\n",
       "      <td>0</td>\n",
       "    </tr>\n",
       "    <tr>\n",
       "      <th>235</th>\n",
       "      <td>1</td>\n",
       "      <td>275</td>\n",
       "      <td>231.0</td>\n",
       "      <td>120</td>\n",
       "      <td>19</td>\n",
       "      <td>9000</td>\n",
       "      <td>2258</td>\n",
       "      <td>26000</td>\n",
       "      <td>4.795202e+07</td>\n",
       "      <td>63</td>\n",
       "      <td>...</td>\n",
       "      <td>1488</td>\n",
       "      <td>134</td>\n",
       "      <td>9</td>\n",
       "      <td>53</td>\n",
       "      <td>7</td>\n",
       "      <td>115000000.0</td>\n",
       "      <td>89</td>\n",
       "      <td>11000</td>\n",
       "      <td>130</td>\n",
       "      <td>16000</td>\n",
       "    </tr>\n",
       "  </tbody>\n",
       "</table>\n",
       "<p>3643 rows × 26 columns</p>\n",
       "</div>"
      ],
      "text/plain": [
       "      color  director_name  num_critic_for_reviews  duration  \\\n",
       "719       1           2025                   171.0       146   \n",
       "990       1            409                   105.0       109   \n",
       "3783      1            124                     3.0        90   \n",
       "2142      1            429                   190.0       109   \n",
       "4419      1           1190                    26.0       112   \n",
       "...     ...            ...                     ...       ...   \n",
       "2895      1            452                    89.0       200   \n",
       "2763      1           1406                    71.0       115   \n",
       "905       1           1606                   330.0       112   \n",
       "3980      1            293                    77.0       102   \n",
       "235       1            275                   231.0       120   \n",
       "\n",
       "      director_facebook_likes  actor_3_facebook_likes  actor_2_name  \\\n",
       "719                     12000                     451          2078   \n",
       "990                         0                     809          2611   \n",
       "3783                        0                      37          1237   \n",
       "2142                      453                    2000           451   \n",
       "4419                        2                     321           891   \n",
       "...                       ...                     ...           ...   \n",
       "2895                      767                     382          1473   \n",
       "2763                      187                     887          2276   \n",
       "905                        97                     584           531   \n",
       "3980                       32                      75           148   \n",
       "235                        19                    9000          2258   \n",
       "\n",
       "      actor_1_facebook_likes         gross  genres  ...  plot_keywords  \\\n",
       "719                    18000  7.786255e+07     191  ...           1944   \n",
       "990                    49000  8.355815e+06     550  ...           2641   \n",
       "3783                    1000  9.150073e+07     706  ...           3973   \n",
       "2142                   18000  2.641565e+07     191  ...           2398   \n",
       "4419                     786  7.707563e+06     511  ...           4128   \n",
       "...                      ...           ...     ...  ...            ...   \n",
       "2895                     597  1.117220e+08     801  ...           1951   \n",
       "2763                   14000  4.039320e+05     803  ...           4035   \n",
       "905                    17000  1.916162e+08     142  ...           2880   \n",
       "3980                     483  1.154654e+07     141  ...           1609   \n",
       "235                    26000  4.795202e+07      63  ...           1488   \n",
       "\n",
       "      num_user_for_reviews  language  country  content_rating       budget  \\\n",
       "719                    690         9       53               9   70000000.0   \n",
       "990                    341         9       52               9   55000000.0   \n",
       "3783                    18         9       52               9    3440000.0   \n",
       "2142                   189         9       53               9   20000000.0   \n",
       "4419                    32         9       53               9  182802463.5   \n",
       "...                    ...       ...      ...             ...          ...   \n",
       "2895                   255         9       53               7   11000000.0   \n",
       "2763                    92         9       52               9   20000000.0   \n",
       "905                    322         9       53               9   50000000.0   \n",
       "3980                   146         4       19               9    2000000.0   \n",
       "235                    134         9       53               7  115000000.0   \n",
       "\n",
       "      title_year  actor_2_facebook_likes  aspect_ratio  movie_facebook_likes  \n",
       "719           77                     992           130                 14000  \n",
       "990           75                     811            61                     0  \n",
       "3783          87                      53           130                   606  \n",
       "2142          81                   11000           130                     0  \n",
       "4419          76                     633            61                     0  \n",
       "...          ...                     ...           ...                   ...  \n",
       "2895          38                     396           130                  7000  \n",
       "2763          73                     900           130                   141  \n",
       "905           87                     920           130                 24000  \n",
       "3980          67                     147           130                     0  \n",
       "235           89                   11000           130                 16000  \n",
       "\n",
       "[3643 rows x 26 columns]"
      ]
     },
     "execution_count": 76,
     "metadata": {},
     "output_type": "execute_result"
    }
   ],
   "source": [
    "X_train"
   ]
  },
  {
   "cell_type": "markdown",
   "metadata": {},
   "source": [
    "# Logistic Regression"
   ]
  },
  {
   "cell_type": "code",
   "execution_count": 77,
   "metadata": {},
   "outputs": [
    {
     "name": "stdout",
     "output_type": "stream",
     "text": [
      "Accuracy: 0.7069154774972558\n"
     ]
    },
    {
     "name": "stderr",
     "output_type": "stream",
     "text": [
      "C:\\Users\\user\\anaconda3\\lib\\site-packages\\sklearn\\linear_model\\_logistic.py:762: ConvergenceWarning: lbfgs failed to converge (status=1):\n",
      "STOP: TOTAL NO. of ITERATIONS REACHED LIMIT.\n",
      "\n",
      "Increase the number of iterations (max_iter) or scale the data as shown in:\n",
      "    https://scikit-learn.org/stable/modules/preprocessing.html\n",
      "Please also refer to the documentation for alternative solver options:\n",
      "    https://scikit-learn.org/stable/modules/linear_model.html#logistic-regression\n",
      "  n_iter_i = _check_optimize_result(\n"
     ]
    }
   ],
   "source": [
    "model_logistic=LogisticRegression()  \n",
    "model_logistic.fit(X_train,y_train)             #Fit logistic regression to train data\n",
    "lpred = model_logistic.predict(X_test)       #Logistic regression prediction\n",
    "lpred\n",
    "lscore = model_logistic.score(X_test, y_test) \n",
    "print(\"Accuracy:\",lscore)"
   ]
  },
  {
   "cell_type": "markdown",
   "metadata": {},
   "source": [
    "# Random Forest"
   ]
  },
  {
   "cell_type": "code",
   "execution_count": 78,
   "metadata": {},
   "outputs": [
    {
     "name": "stdout",
     "output_type": "stream",
     "text": [
      "Accuracy: 0.7914379802414928\n"
     ]
    }
   ],
   "source": [
    "from sklearn.ensemble import RandomForestClassifier\n",
    "model_random = RandomForestClassifier(n_estimators = 200)\n",
    "model_random.fit(X_train, np.ravel(y_train,order='C'))\n",
    "rpred = model_random.predict(X_test)\n",
    "rscore = model_random.score(X_test, y_test) \n",
    "print(\"Accuracy:\",accuracy_score(y_test, rpred))"
   ]
  },
  {
   "cell_type": "markdown",
   "metadata": {},
   "source": [
    "# Gradient Boosting"
   ]
  },
  {
   "cell_type": "code",
   "execution_count": 79,
   "metadata": {},
   "outputs": [
    {
     "name": "stdout",
     "output_type": "stream",
     "text": [
      "Accuracy: 0.7903402854006586\n"
     ]
    }
   ],
   "source": [
    "from sklearn.ensemble import GradientBoostingClassifier\n",
    "model_gb = GradientBoostingClassifier(n_estimators = 50, learning_rate = 0.09, max_depth=5)\n",
    "model_gb = model_gb.fit(X_train,np.ravel(y_train,order='C'))\n",
    "gpred = model_gb.predict(X_test)\n",
    "gscore = model_gb.score(X_test, y_test) \n",
    "print(\"Accuracy:\",accuracy_score(y_test, gpred))"
   ]
  },
  {
   "cell_type": "markdown",
   "metadata": {},
   "source": [
    "# Ada Boosting"
   ]
  },
  {
   "cell_type": "code",
   "execution_count": 80,
   "metadata": {},
   "outputs": [
    {
     "name": "stdout",
     "output_type": "stream",
     "text": [
      "Accuracy: 0.7244785949506037\n"
     ]
    }
   ],
   "source": [
    "#Ada Boosting\n",
    "from sklearn.ensemble import AdaBoostClassifier\n",
    "model_ab = AdaBoostClassifier(n_estimators=60)\n",
    "model_ab=model_ab.fit(X_train,np.ravel(y_train,order='C'))\n",
    "apred=model_ab.predict(X_test)\n",
    "ascore = model_ab.score(X_test, y_test) \n",
    "print(\"Accuracy:\",accuracy_score(y_test, apred))"
   ]
  },
  {
   "cell_type": "markdown",
   "metadata": {},
   "source": [
    "# Decision Tree (GINI)"
   ]
  },
  {
   "cell_type": "code",
   "execution_count": 81,
   "metadata": {},
   "outputs": [
    {
     "name": "stdout",
     "output_type": "stream",
     "text": [
      "Accuracy: 0.6937431394072447\n"
     ]
    }
   ],
   "source": [
    "from sklearn.tree import DecisionTreeClassifier\n",
    "model_dt = DecisionTreeClassifier(criterion='gini') #criterion = entopy, gini\n",
    "model_dt.fit(X_train, np.ravel(y_train,order='C'))\n",
    "dtpred = model_dt.predict(X_test)\n",
    "dtscore = model_dt.score(X_test, y_test) \n",
    "print(\"Accuracy:\",accuracy_score(y_test, dtpred))"
   ]
  },
  {
   "cell_type": "markdown",
   "metadata": {},
   "source": [
    "# Decision Tree (ENTROPY)"
   ]
  },
  {
   "cell_type": "code",
   "execution_count": 82,
   "metadata": {},
   "outputs": [
    {
     "name": "stdout",
     "output_type": "stream",
     "text": [
      "Accuracy: 0.703622392974753\n"
     ]
    }
   ],
   "source": [
    "from sklearn.tree import DecisionTreeClassifier\n",
    "model_dte = DecisionTreeClassifier(criterion='entropy') #criterion = entopy, gini\n",
    "model_dte.fit(X_train, np.ravel(y_train,order='C'))\n",
    "dtepred = model_dte.predict(X_test)\n",
    "dtescore = model_dte.score(X_test, y_test) \n",
    "print(\"Accuracy:\",accuracy_score(y_test, dtepred))"
   ]
  },
  {
   "cell_type": "markdown",
   "metadata": {},
   "source": [
    "# Naive bayes"
   ]
  },
  {
   "cell_type": "code",
   "execution_count": 83,
   "metadata": {},
   "outputs": [
    {
     "name": "stdout",
     "output_type": "stream",
     "text": [
      "Accuracy: 0.38529088913282106\n"
     ]
    }
   ],
   "source": [
    "from sklearn.naive_bayes import GaussianNB\n",
    "model_nb= GaussianNB()\n",
    "model_nb.fit(X_train, np.ravel(y_train,order='C'))\n",
    "npred = model_nb.predict(X_test)\n",
    "nscore = model_nb.score(X_test, y_test) \n",
    "print(\"Accuracy:\",accuracy_score(y_test, npred))"
   ]
  },
  {
   "cell_type": "markdown",
   "metadata": {},
   "source": [
    "# SVM"
   ]
  },
  {
   "cell_type": "code",
   "execution_count": 84,
   "metadata": {},
   "outputs": [
    {
     "name": "stdout",
     "output_type": "stream",
     "text": [
      "Accuracy: 0.5422612513721186\n"
     ]
    }
   ],
   "source": [
    "from sklearn.svm import SVC\n",
    "svc= SVC(kernel = 'sigmoid')\n",
    "svc.fit(X_train, np.ravel(y_train,order='C'))\n",
    "spred = svc.predict(X_test)\n",
    "sscore = svc.score(X_test, y_test) \n",
    "print(\"Accuracy:\",accuracy_score(y_test, spred))"
   ]
  },
  {
   "cell_type": "markdown",
   "metadata": {},
   "source": [
    "# KNeighborsClassifier"
   ]
  },
  {
   "cell_type": "code",
   "execution_count": 85,
   "metadata": {},
   "outputs": [
    {
     "name": "stdout",
     "output_type": "stream",
     "text": [
      "Accuracy: 0.6289791437980241\n"
     ]
    }
   ],
   "source": [
    "from sklearn.neighbors import KNeighborsClassifier\n",
    "model_knn = KNeighborsClassifier(n_neighbors=22)\n",
    "model_knn.fit(X_train, np.ravel(y_train,order='C'))\n",
    "kpred = model_knn.predict(X_test)\n",
    "kscore = model_knn.score(X_test, y_test) \n",
    "print(\"Accuracy:\",accuracy_score(y_test, kpred))"
   ]
  },
  {
   "cell_type": "markdown",
   "metadata": {},
   "source": [
    "# Comparision Table"
   ]
  },
  {
   "cell_type": "code",
   "execution_count": 86,
   "metadata": {},
   "outputs": [],
   "source": [
    "output=pd.DataFrame(['Logistic Regression'],columns=['Algorithms'])\n",
    "output.loc[0,'Accuracy']=lscore\n",
    "output.loc[1,'Algorithms']='Random Forest'\n",
    "output.loc[1,'Accuracy']=rscore\n",
    "output.loc[2,'Algorithms']='Gradient Boosting'\n",
    "output.loc[2,'Accuracy']=gscore\n",
    "output.loc[3,'Algorithms']='Ada Boosting'\n",
    "output.loc[3,'Accuracy']=ascore\n",
    "output.loc[4,'Algorithms']='Desicion Tree (gini)'\n",
    "output.loc[4,'Accuracy']=dtscore\n",
    "output.loc[5,'Algorithms']='Desicion Tree (entropy)'\n",
    "output.loc[5,'Accuracy']=dtescore\n",
    "output.loc[6,'Algorithms']='Naive Bayes'\n",
    "output.loc[6,'Accuracy']=nscore\n",
    "output.loc[7,'Algorithms']='SVM'\n",
    "output.loc[7,'Accuracy']=sscore\n",
    "output.loc[8,'Algorithms']='KNeighborsClassifier'\n",
    "output.loc[8,'Accuracy']=kscore"
   ]
  },
  {
   "cell_type": "code",
   "execution_count": 87,
   "metadata": {},
   "outputs": [
    {
     "data": {
      "text/html": [
       "<div>\n",
       "<style scoped>\n",
       "    .dataframe tbody tr th:only-of-type {\n",
       "        vertical-align: middle;\n",
       "    }\n",
       "\n",
       "    .dataframe tbody tr th {\n",
       "        vertical-align: top;\n",
       "    }\n",
       "\n",
       "    .dataframe thead th {\n",
       "        text-align: right;\n",
       "    }\n",
       "</style>\n",
       "<table border=\"1\" class=\"dataframe\">\n",
       "  <thead>\n",
       "    <tr style=\"text-align: right;\">\n",
       "      <th></th>\n",
       "      <th>Algorithms</th>\n",
       "      <th>Accuracy</th>\n",
       "    </tr>\n",
       "  </thead>\n",
       "  <tbody>\n",
       "    <tr>\n",
       "      <th>0</th>\n",
       "      <td>Logistic Regression</td>\n",
       "      <td>0.706915</td>\n",
       "    </tr>\n",
       "    <tr>\n",
       "      <th>1</th>\n",
       "      <td>Random Forest</td>\n",
       "      <td>0.791438</td>\n",
       "    </tr>\n",
       "    <tr>\n",
       "      <th>2</th>\n",
       "      <td>Gradient Boosting</td>\n",
       "      <td>0.790340</td>\n",
       "    </tr>\n",
       "    <tr>\n",
       "      <th>3</th>\n",
       "      <td>Ada Boosting</td>\n",
       "      <td>0.724479</td>\n",
       "    </tr>\n",
       "    <tr>\n",
       "      <th>4</th>\n",
       "      <td>Desicion Tree (gini)</td>\n",
       "      <td>0.693743</td>\n",
       "    </tr>\n",
       "    <tr>\n",
       "      <th>5</th>\n",
       "      <td>Desicion Tree (entropy)</td>\n",
       "      <td>0.703622</td>\n",
       "    </tr>\n",
       "    <tr>\n",
       "      <th>6</th>\n",
       "      <td>Naive Bayes</td>\n",
       "      <td>0.385291</td>\n",
       "    </tr>\n",
       "    <tr>\n",
       "      <th>7</th>\n",
       "      <td>SVM</td>\n",
       "      <td>0.542261</td>\n",
       "    </tr>\n",
       "    <tr>\n",
       "      <th>8</th>\n",
       "      <td>KNeighborsClassifier</td>\n",
       "      <td>0.628979</td>\n",
       "    </tr>\n",
       "  </tbody>\n",
       "</table>\n",
       "</div>"
      ],
      "text/plain": [
       "                Algorithms  Accuracy\n",
       "0      Logistic Regression  0.706915\n",
       "1            Random Forest  0.791438\n",
       "2        Gradient Boosting  0.790340\n",
       "3             Ada Boosting  0.724479\n",
       "4     Desicion Tree (gini)  0.693743\n",
       "5  Desicion Tree (entropy)  0.703622\n",
       "6              Naive Bayes  0.385291\n",
       "7                      SVM  0.542261\n",
       "8     KNeighborsClassifier  0.628979"
      ]
     },
     "execution_count": 87,
     "metadata": {},
     "output_type": "execute_result"
    }
   ],
   "source": [
    "output"
   ]
  },
  {
   "cell_type": "markdown",
   "metadata": {},
   "source": [
    "# Comparision Graph"
   ]
  },
  {
   "cell_type": "code",
   "execution_count": 88,
   "metadata": {},
   "outputs": [
    {
     "data": {
      "text/plain": [
       "<matplotlib.axes._subplots.AxesSubplot at 0x20ca263cb80>"
      ]
     },
     "execution_count": 88,
     "metadata": {},
     "output_type": "execute_result"
    },
    {
     "data": {
      "image/png": "[encoded data removed]",
      "text/plain": [
       "<Figure size 1152x648 with 1 Axes>"
      ]
     },
     "metadata": {},
     "output_type": "display_data"
    }
   ],
   "source": [
    "sns.set()\n",
    "plt.figure(figsize = (16,9))\n",
    "sns.barplot(x='Algorithms',y='Accuracy',data=output,palette=\"winter_r\")"
   ]
  },
  {
   "cell_type": "markdown",
   "metadata": {},
   "source": [
    "# Confusion Matrix Of Algorithms"
   ]
  },
  {
   "cell_type": "code",
   "execution_count": 89,
   "metadata": {},
   "outputs": [
    {
     "name": "stdout",
     "output_type": "stream",
     "text": [
      "Logistic Regression\n",
      "[[126   0 175]\n",
      " [  1   0  25]\n",
      " [ 66   0 518]]\n",
      "Random Forest\n",
      "[[176   0 125]\n",
      " [  0   0  26]\n",
      " [ 39   0 545]]\n",
      "Gradient Boosting\n",
      "[[186   0 115]\n",
      " [  2   1  23]\n",
      " [ 48   3 533]]\n",
      "Ada Boosting\n",
      "[[183   0 118]\n",
      " [  1   1  24]\n",
      " [101   7 476]]\n",
      "Decision Tree (gini)\n",
      "[[188  10 103]\n",
      " [  4   4  18]\n",
      " [114  30 440]]\n",
      "Decision Tree (entropy)\n",
      "[[174   7 120]\n",
      " [  3   3  20]\n",
      " [ 97  23 464]]\n",
      "Naive Bayes\n",
      "[[ 90  82 129]\n",
      " [  0  21   5]\n",
      " [ 63 281 240]]\n",
      "SVM\n",
      "[[ 94  20 187]\n",
      " [  8   0  18]\n",
      " [171  13 400]]\n",
      "KNeighbour Classifier\n",
      "[[ 59   0 242]\n",
      " [  3   0  23]\n",
      " [ 70   0 514]]\n"
     ]
    }
   ],
   "source": [
    "from sklearn.metrics import accuracy_score,precision_score, confusion_matrix,f1_score,recall_score\n",
    "print('Logistic Regression')\n",
    "lmatrix = confusion_matrix(y_test, lpred)\n",
    "print(lmatrix)\n",
    "print('Random Forest')\n",
    "rmatrix = confusion_matrix(y_test, rpred)\n",
    "print(rmatrix)\n",
    "print('Gradient Boosting')\n",
    "gmatrix = confusion_matrix(y_test, gpred)\n",
    "print(gmatrix)\n",
    "print('Ada Boosting')\n",
    "amatrix = confusion_matrix(y_test, apred)\n",
    "print(amatrix)\n",
    "print('Decision Tree (gini)')\n",
    "dtmatrix = confusion_matrix(y_test,dtpred)\n",
    "print(dtmatrix)\n",
    "print('Decision Tree (entropy)')\n",
    "dtematrix = confusion_matrix(y_test, dtepred)\n",
    "print(dtematrix)\n",
    "print('Naive Bayes')\n",
    "nmatrix = confusion_matrix(y_test, npred)\n",
    "print(nmatrix)\n",
    "print('SVM')\n",
    "smatrix = confusion_matrix(y_test, spred)\n",
    "print(smatrix)\n",
    "print('KNeighbour Classifier')\n",
    "kmatrix = confusion_matrix(y_test, kpred)\n",
    "print(kmatrix)"
   ]
  },
  {
   "cell_type": "markdown",
   "metadata": {},
   "source": [
    "# Classification reports Of Algorithms"
   ]
  },
  {
   "cell_type": "code",
   "execution_count": 90,
   "metadata": {},
   "outputs": [
    {
     "name": "stdout",
     "output_type": "stream",
     "text": [
      "Logistic  Report\n",
      "               precision    recall  f1-score   support\n",
      "\n",
      "           0       0.65      0.42      0.51       301\n",
      "           1       0.00      0.00      0.00        26\n",
      "           2       0.72      0.89      0.80       584\n",
      "\n",
      "    accuracy                           0.71       911\n",
      "   macro avg       0.46      0.44      0.44       911\n",
      "weighted avg       0.68      0.71      0.68       911\n",
      "\n",
      "Random Forests Report\n",
      "               precision    recall  f1-score   support\n",
      "\n",
      "           0       0.82      0.58      0.68       301\n",
      "           1       0.00      0.00      0.00        26\n",
      "           2       0.78      0.93      0.85       584\n",
      "\n",
      "    accuracy                           0.79       911\n",
      "   macro avg       0.53      0.51      0.51       911\n",
      "weighted avg       0.77      0.79      0.77       911\n",
      "\n",
      "Gradient Boosting Report               precision    recall  f1-score   support\n",
      "\n",
      "           0       0.79      0.62      0.69       301\n",
      "           1       0.25      0.04      0.07        26\n",
      "           2       0.79      0.91      0.85       584\n",
      "\n",
      "    accuracy                           0.79       911\n",
      "   macro avg       0.61      0.52      0.54       911\n",
      "weighted avg       0.78      0.79      0.78       911\n",
      "\n",
      "Ada Boosting Report\n",
      "               precision    recall  f1-score   support\n",
      "\n",
      "           0       0.64      0.61      0.62       301\n",
      "           1       0.12      0.04      0.06        26\n",
      "           2       0.77      0.82      0.79       584\n",
      "\n",
      "    accuracy                           0.72       911\n",
      "   macro avg       0.51      0.49      0.49       911\n",
      "weighted avg       0.71      0.72      0.72       911\n",
      "\n",
      "Decision Tree (Gini) Report\n",
      "               precision    recall  f1-score   support\n",
      "\n",
      "           0       0.61      0.62      0.62       301\n",
      "           1       0.09      0.15      0.11        26\n",
      "           2       0.78      0.75      0.77       584\n",
      "\n",
      "    accuracy                           0.69       911\n",
      "   macro avg       0.50      0.51      0.50       911\n",
      "weighted avg       0.71      0.69      0.70       911\n",
      "\n",
      "Decision Tree (Entropy) Report\n",
      "               precision    recall  f1-score   support\n",
      "\n",
      "           0       0.64      0.58      0.61       301\n",
      "           1       0.09      0.12      0.10        26\n",
      "           2       0.77      0.79      0.78       584\n",
      "\n",
      "    accuracy                           0.70       911\n",
      "   macro avg       0.50      0.50      0.50       911\n",
      "weighted avg       0.70      0.70      0.70       911\n",
      "\n",
      "Naive Bayes Report\n",
      "               precision    recall  f1-score   support\n",
      "\n",
      "           0       0.59      0.30      0.40       301\n",
      "           1       0.05      0.81      0.10        26\n",
      "           2       0.64      0.41      0.50       584\n",
      "\n",
      "    accuracy                           0.39       911\n",
      "   macro avg       0.43      0.51      0.33       911\n",
      "weighted avg       0.61      0.39      0.46       911\n",
      "\n",
      "SVM Report\n",
      "               precision    recall  f1-score   support\n",
      "\n",
      "           0       0.34      0.31      0.33       301\n",
      "           1       0.00      0.00      0.00        26\n",
      "           2       0.66      0.68      0.67       584\n",
      "\n",
      "    accuracy                           0.54       911\n",
      "   macro avg       0.34      0.33      0.33       911\n",
      "weighted avg       0.54      0.54      0.54       911\n",
      "\n",
      "KNN Report\n",
      "               precision    recall  f1-score   support\n",
      "\n",
      "           0       0.45      0.20      0.27       301\n",
      "           1       0.00      0.00      0.00        26\n",
      "           2       0.66      0.88      0.75       584\n",
      "\n",
      "    accuracy                           0.63       911\n",
      "   macro avg       0.37      0.36      0.34       911\n",
      "weighted avg       0.57      0.63      0.57       911\n",
      "\n"
     ]
    },
    {
     "name": "stderr",
     "output_type": "stream",
     "text": [
      "C:\\Users\\user\\anaconda3\\lib\\site-packages\\sklearn\\metrics\\_classification.py:1221: UndefinedMetricWarning: Precision and F-score are ill-defined and being set to 0.0 in labels with no predicted samples. Use `zero_division` parameter to control this behavior.\n",
      "  _warn_prf(average, modifier, msg_start, len(result))\n"
     ]
    }
   ],
   "source": [
    "from sklearn.metrics import classification_report\n",
    "\n",
    "print('Logistic  Report\\n',classification_report(y_test, lpred))\n",
    "print('Random Forests Report\\n',classification_report(y_test, rpred))\n",
    "print('Gradient Boosting Report',classification_report(y_test, gpred))\n",
    "print('Ada Boosting Report\\n',classification_report(y_test, apred))\n",
    "print('Decision Tree (Gini) Report\\n',classification_report(y_test, dtpred))\n",
    "print('Decision Tree (Entropy) Report\\n',classification_report(y_test, dtepred))\n",
    "print('Naive Bayes Report\\n',classification_report(y_test, npred))\n",
    "print('SVM Report\\n',classification_report(y_test, spred))\n",
    "print('KNN Report\\n',classification_report(y_test, kpred))"
   ]
  },
  {
   "cell_type": "code",
   "execution_count": null,
   "metadata": {},
   "outputs": [],
   "source": []
  }
 ],
 "metadata": {
  "kernelspec": {
   "display_name": "Python 3",
   "language": "python",
   "name": "python3"
  },
  "language_info": {
   "codemirror_mode": {
    "name": "ipython",
    "version": 3
   },
   "file_extension": ".py",
   "mimetype": "text/x-python",
   "name": "python",
   "nbconvert_exporter": "python",
   "pygments_lexer": "ipython3",
   "version": "3.8.3"
  }
 },
 "nbformat": 4,
 "nbformat_minor": 4
}
